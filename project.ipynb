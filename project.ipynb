{
 "cells": [
  {
   "cell_type": "markdown",
   "metadata": {},
   "source": [
    "# 한국 지역내총생산(GRDP)과 고용률의 관계에 대한 가설 검정\n",
    "경제 성장이 고용 창출을 이루어 내는지에 대한 연구를 통하여 관련성을 입증하고, 특히 한국의 각 지역별(광역시, 특별시, 도)의 총생산과 고용률을 데이터로 사용하여 연구함으로써 수도권과 지방의 불균형으로 인해 지방 소멸이 큰 문제로 대두되고 있는 한국에서 각 지역의 경제적 특성과 요구에 맞춘 정책 개발과 실행을 가능케 하며, 지역 간 불균형 해소, 사회적 안정, 자원 활용, 경제 경쟁력 강화 등에 도움을 줄 수 있다."
   ]
  },
  {
   "cell_type": "code",
   "execution_count": 86,
   "metadata": {},
   "outputs": [],
   "source": [
    "import pandas as pd\n",
    "import numpy as np\n",
    "from scipy import stats\n",
    "import statsmodels.api as sm\n",
    "import matplotlib.pyplot as plt\n",
    "from sklearn.linear_model import LinearRegression\n",
    "plt.rc('font', family='AppleGothic')\n",
    "plt.rcParams['axes.unicode_minus'] = False\n",
    "%matplotlib inline\n",
    "\n",
    "df1 = pd.read_excel(\"grdp_val.xlsx\", index_col=0) # use first column as index\n",
    "df2 = pd.read_csv(\"employment.csv\", encoding='cp949', index_col=0) "
   ]
  },
  {
   "cell_type": "code",
   "execution_count": 87,
   "metadata": {},
   "outputs": [
    {
     "name": "stdout",
     "output_type": "stream",
     "text": [
      "      1985     1986     1987     1988     1989     1990     1991     1992   \n",
      "전국  91,625  107,026  124,636  149,135  168,562  205,514  249,260  285,179  \\\n",
      "서울  23,118   27,276   32,075   37,559   43,432   53,262   64,701   73,637   \n",
      "부산   7,010    7,983    9,294   10,674   11,546   14,404   17,061   18,362   \n",
      "대구   3,940    4,684    5,590    6,345    7,073    8,757   10,104   11,203   \n",
      "인천   4,227    4,921    5,737    7,063    8,136   10,284   13,153   14,592   \n",
      "\n",
      "       1993     1994  ...       2012       2013       2014       2015   \n",
      "전국  322,595  380,422  ...  1,445,391  1,505,239  1,566,088  1,660,844  \\\n",
      "서울   84,447   97,961  ...    334,325    340,712    350,258    370,168   \n",
      "부산   20,326   23,364  ...     71,156     73,319     77,563     82,701   \n",
      "대구   12,232   14,438  ...     44,843     46,905     48,818     51,822   \n",
      "인천   16,382   18,868  ...     66,408     69,398     74,612     80,138   \n",
      "\n",
      "         2016       2017       2018       2019       2020       2021  \n",
      "전국  1,743,575  1,840,349  1,902,528  1,927,421  1,944,644  2,076,254  \n",
      "서울    387,364    404,080    423,742    435,927    444,545    471,731  \n",
      "부산     85,536     87,836     89,980     93,012     91,286     98,652  \n",
      "대구     53,167     54,833     56,714     58,095     57,725     60,866  \n",
      "인천     84,663     88,547     88,735     90,041     89,615     97,894  \n",
      "\n",
      "[5 rows x 37 columns]\n"
     ]
    }
   ],
   "source": [
    "# 변수1 (GRDP 성장률) 데이터 전처리\n",
    "#df1 = df1.T\n",
    "print(df1.head())\n",
    "#df1.astype(float).plot()"
   ]
  },
  {
   "cell_type": "code",
   "execution_count": 88,
   "metadata": {},
   "outputs": [
    {
     "name": "stdout",
     "output_type": "stream",
     "text": [
      "       2000  2001  2002  2003  2004  2005  2006  2007  2008  2009  ...  2013   \n",
      "계      61.5  62.2  63.4  63.0  63.8  63.7  64.0  64.1  64.0  63.0  ...  64.6  \\\n",
      "서울특별시  60.9  61.5  62.4  62.6  63.8  64.3  64.4  64.7  64.3  62.7  ...  65.0   \n",
      "부산광역시  58.4  59.3  61.7  59.2  59.6  60.1  60.5  60.7  60.3  59.3  ...  61.8   \n",
      "대구광역시  59.2  60.3  62.0  61.0  62.2  61.9  61.8  61.9  61.3  61.1  ...  63.2   \n",
      "인천광역시  61.5  62.6  63.8  62.7  62.7  62.8  63.4  64.0  63.2  63.2  ...  65.3   \n",
      "\n",
      "       2014  2015  2016  2017  2018  2019  2020  2021  2022  \n",
      "계      65.6  65.9  66.1  66.6  66.6  66.8  65.9  66.5  68.5  \n",
      "서울특별시  65.7  65.5  65.8  66.4  66.0  66.3  65.9  66.6  68.4  \n",
      "부산광역시  62.7  62.7  62.6  63.4  62.9  64.2  62.9  63.9  65.4  \n",
      "대구광역시  64.3  65.4  65.3  65.0  64.2  64.2  63.0  65.5  66.9  \n",
      "인천광역시  65.4  65.9  67.2  67.3  68.6  68.3  66.9  67.4  69.4  \n",
      "\n",
      "[5 rows x 23 columns]\n"
     ]
    }
   ],
   "source": [
    "# 변수2 (고용률) 데이터 전처리\n",
    "#df2 = df2.T\n",
    "print(df2.head())\n",
    "#df2.astype(float).plot()"
   ]
  },
  {
   "cell_type": "markdown",
   "metadata": {},
   "source": [
    "## 귀무가설 (H0)\n",
    "지역내경제성장률의 증가와 고용률의 증가는 관계가 없다. (등락을 같이 하지 않는다)\n",
    "## 대립가설 (Ha)\n",
    "지역내경제성장률이 증가하니 고용률도 증가했다. (등락을 같이 한다)\n",
    "\n",
    "아마 growth rate가 높을 때와 그렇지 않을 때의 고용률의 추이를 보면 되지 않을까?\n",
    "- 그러면 데이터 전처리를 GRDP 증가가 높을때의 고용률과 그렇지 않을 때의 고용률로 나누고하면 될듯?\n",
    "- 성장률 평균을 계산하여 평균보다 높을때와 낮을때의 케이스들을 보면 된다\n",
    "\n",
    "증가율로 하지 말고 GRDP 자체로 하는것도 좋을 듯\n",
    "- 뭐 서울은 두 변수 사이의 상관관계가 있는데 부산은 관계가 없다 같은걸로 해도 될듯"
   ]
  },
  {
   "cell_type": "code",
   "execution_count": 260,
   "metadata": {},
   "outputs": [
    {
     "data": {
      "text/html": [
       "<div>\n",
       "<style scoped>\n",
       "    .dataframe tbody tr th:only-of-type {\n",
       "        vertical-align: middle;\n",
       "    }\n",
       "\n",
       "    .dataframe tbody tr th {\n",
       "        vertical-align: top;\n",
       "    }\n",
       "\n",
       "    .dataframe thead th {\n",
       "        text-align: right;\n",
       "    }\n",
       "</style>\n",
       "<table border=\"1\" class=\"dataframe\">\n",
       "  <thead>\n",
       "    <tr style=\"text-align: right;\">\n",
       "      <th></th>\n",
       "      <th>GRDP</th>\n",
       "      <th>Employment</th>\n",
       "    </tr>\n",
       "  </thead>\n",
       "  <tbody>\n",
       "    <tr>\n",
       "      <th>2000</th>\n",
       "      <td>655879.0</td>\n",
       "      <td>61.5</td>\n",
       "    </tr>\n",
       "    <tr>\n",
       "      <th>2001</th>\n",
       "      <td>710998.0</td>\n",
       "      <td>62.2</td>\n",
       "    </tr>\n",
       "    <tr>\n",
       "      <th>2002</th>\n",
       "      <td>786395.0</td>\n",
       "      <td>63.4</td>\n",
       "    </tr>\n",
       "    <tr>\n",
       "      <th>2003</th>\n",
       "      <td>843323.0</td>\n",
       "      <td>63.0</td>\n",
       "    </tr>\n",
       "    <tr>\n",
       "      <th>2004</th>\n",
       "      <td>914890.0</td>\n",
       "      <td>63.8</td>\n",
       "    </tr>\n",
       "    <tr>\n",
       "      <th>2005</th>\n",
       "      <td>958976.0</td>\n",
       "      <td>63.7</td>\n",
       "    </tr>\n",
       "    <tr>\n",
       "      <th>2006</th>\n",
       "      <td>1011292.0</td>\n",
       "      <td>64.0</td>\n",
       "    </tr>\n",
       "    <tr>\n",
       "      <th>2007</th>\n",
       "      <td>1093216.0</td>\n",
       "      <td>64.1</td>\n",
       "    </tr>\n",
       "    <tr>\n",
       "      <th>2008</th>\n",
       "      <td>1159499.0</td>\n",
       "      <td>64.0</td>\n",
       "    </tr>\n",
       "    <tr>\n",
       "      <th>2009</th>\n",
       "      <td>1207709.0</td>\n",
       "      <td>63.0</td>\n",
       "    </tr>\n",
       "    <tr>\n",
       "      <th>2010</th>\n",
       "      <td>1327444.0</td>\n",
       "      <td>63.4</td>\n",
       "    </tr>\n",
       "    <tr>\n",
       "      <th>2011</th>\n",
       "      <td>1393306.0</td>\n",
       "      <td>63.9</td>\n",
       "    </tr>\n",
       "    <tr>\n",
       "      <th>2012</th>\n",
       "      <td>1445391.0</td>\n",
       "      <td>64.3</td>\n",
       "    </tr>\n",
       "    <tr>\n",
       "      <th>2013</th>\n",
       "      <td>1505239.0</td>\n",
       "      <td>64.6</td>\n",
       "    </tr>\n",
       "    <tr>\n",
       "      <th>2014</th>\n",
       "      <td>1566088.0</td>\n",
       "      <td>65.6</td>\n",
       "    </tr>\n",
       "    <tr>\n",
       "      <th>2015</th>\n",
       "      <td>1660844.0</td>\n",
       "      <td>65.9</td>\n",
       "    </tr>\n",
       "    <tr>\n",
       "      <th>2016</th>\n",
       "      <td>1743575.0</td>\n",
       "      <td>66.1</td>\n",
       "    </tr>\n",
       "    <tr>\n",
       "      <th>2017</th>\n",
       "      <td>1840349.0</td>\n",
       "      <td>66.6</td>\n",
       "    </tr>\n",
       "    <tr>\n",
       "      <th>2018</th>\n",
       "      <td>1902528.0</td>\n",
       "      <td>66.6</td>\n",
       "    </tr>\n",
       "    <tr>\n",
       "      <th>2019</th>\n",
       "      <td>1927421.0</td>\n",
       "      <td>66.8</td>\n",
       "    </tr>\n",
       "    <tr>\n",
       "      <th>2020</th>\n",
       "      <td>1944644.0</td>\n",
       "      <td>65.9</td>\n",
       "    </tr>\n",
       "    <tr>\n",
       "      <th>2021</th>\n",
       "      <td>2076254.0</td>\n",
       "      <td>66.5</td>\n",
       "    </tr>\n",
       "  </tbody>\n",
       "</table>\n",
       "</div>"
      ],
      "text/plain": [
       "           GRDP  Employment\n",
       "2000   655879.0        61.5\n",
       "2001   710998.0        62.2\n",
       "2002   786395.0        63.4\n",
       "2003   843323.0        63.0\n",
       "2004   914890.0        63.8\n",
       "2005   958976.0        63.7\n",
       "2006  1011292.0        64.0\n",
       "2007  1093216.0        64.1\n",
       "2008  1159499.0        64.0\n",
       "2009  1207709.0        63.0\n",
       "2010  1327444.0        63.4\n",
       "2011  1393306.0        63.9\n",
       "2012  1445391.0        64.3\n",
       "2013  1505239.0        64.6\n",
       "2014  1566088.0        65.6\n",
       "2015  1660844.0        65.9\n",
       "2016  1743575.0        66.1\n",
       "2017  1840349.0        66.6\n",
       "2018  1902528.0        66.6\n",
       "2019  1927421.0        66.8\n",
       "2020  1944644.0        65.9\n",
       "2021  2076254.0        66.5"
      ]
     },
     "execution_count": 260,
     "metadata": {},
     "output_type": "execute_result"
    }
   ],
   "source": [
    "# 두 그룹 표본 평균 차이 분석\n",
    "# 이거 그룹을 만들때 계로 하지 말고 전체 지역 다 합쳐서 하면 데이터가 늘어난다\n",
    "df1 = df1.replace(',','',regex=True)\n",
    "c = df1.select_dtypes(object).columns\n",
    "df1[c] = df1[c].apply(pd.to_numeric,errors='coerce')\n",
    "\n",
    "total1 = df1.iloc[0:1,14:] # 전체 GRDP\n",
    "total2 = df2.iloc[0:1,:22] # 전체 고용률\n",
    "total1 = total1.T\n",
    "total2 = total2.T\n",
    "\n",
    "data = pd.concat([total1, total2], axis=1, join='inner')\n",
    "data.columns = ['GRDP', 'Employment']\n",
    "data\n"
   ]
  },
  {
   "cell_type": "code",
   "execution_count": 262,
   "metadata": {},
   "outputs": [
    {
     "name": "stdout",
     "output_type": "stream",
     "text": [
      "               계\n",
      "count  22.000000\n",
      "mean   64.495455\n",
      "std     1.530788\n",
      "min    61.500000\n",
      "25%    63.475000\n",
      "50%    64.050000\n",
      "75%    65.900000\n",
      "max    66.800000\n"
     ]
    }
   ],
   "source": [
    "ps = pd.DataFrame(total2)\n",
    "print(ps.describe())"
   ]
  },
  {
   "cell_type": "code",
   "execution_count": 240,
   "metadata": {},
   "outputs": [],
   "source": [
    "p_col = 'GRDP'\n",
    "s_col = 'Employment'\n",
    "\n",
    "cutting_point = data[p_col].median()\n",
    "cond = data[p_col] > cutting_point\n",
    "\n",
    "group1, group2 = data[cond], data[~cond]"
   ]
  },
  {
   "cell_type": "code",
   "execution_count": 241,
   "metadata": {},
   "outputs": [],
   "source": [
    "mean1 = group1[s_col].mean() # 각 그룹의 고용률의 평균\n",
    "mean2 = group2[s_col].mean() \n",
    "\n",
    "var1 = group1[s_col].var(ddof=1) # 표본 분산을 계산할 때 자유도를 1로 조정하기 위해 ddof = 1 설정. \n",
    "var2 = group2[s_col].var(ddof=1)\n",
    "\n",
    "n1 = len(group1[s_col])\n",
    "n2 = len(group2[s_col])"
   ]
  },
  {
   "cell_type": "code",
   "execution_count": 242,
   "metadata": {},
   "outputs": [
    {
     "data": {
      "text/html": [
       "<div>\n",
       "<style scoped>\n",
       "    .dataframe tbody tr th:only-of-type {\n",
       "        vertical-align: middle;\n",
       "    }\n",
       "\n",
       "    .dataframe tbody tr th {\n",
       "        vertical-align: top;\n",
       "    }\n",
       "\n",
       "    .dataframe thead th {\n",
       "        text-align: right;\n",
       "    }\n",
       "</style>\n",
       "<table border=\"1\" class=\"dataframe\">\n",
       "  <thead>\n",
       "    <tr style=\"text-align: right;\">\n",
       "      <th></th>\n",
       "      <th>Group 1</th>\n",
       "      <th>Group 2</th>\n",
       "    </tr>\n",
       "  </thead>\n",
       "  <tbody>\n",
       "    <tr>\n",
       "      <th>Mean</th>\n",
       "      <td>65.709091</td>\n",
       "      <td>63.281818</td>\n",
       "    </tr>\n",
       "    <tr>\n",
       "      <th>Variance</th>\n",
       "      <td>1.012909</td>\n",
       "      <td>0.667636</td>\n",
       "    </tr>\n",
       "    <tr>\n",
       "      <th>Observations</th>\n",
       "      <td>11.000000</td>\n",
       "      <td>11.000000</td>\n",
       "    </tr>\n",
       "  </tbody>\n",
       "</table>\n",
       "</div>"
      ],
      "text/plain": [
       "                Group 1    Group 2\n",
       "Mean          65.709091  63.281818\n",
       "Variance       1.012909   0.667636\n",
       "Observations  11.000000  11.000000"
      ]
     },
     "execution_count": 242,
     "metadata": {},
     "output_type": "execute_result"
    }
   ],
   "source": [
    "group1_data = {}\n",
    "group1_data['Mean'] = mean1\n",
    "group1_data['Variance'] = var1\n",
    "group1_data['Observations'] = n1\n",
    "\n",
    "group2_data = {}\n",
    "group2_data['Mean'] = mean2\n",
    "group2_data['Variance'] = var2\n",
    "group2_data['Observations'] = n2\n",
    "\n",
    "group_table = pd.DataFrame({'Group 1' : group1_data, 'Group 2':group2_data},)\n",
    "group_table"
   ]
  },
  {
   "cell_type": "code",
   "execution_count": 243,
   "metadata": {},
   "outputs": [
    {
     "name": "stdout",
     "output_type": "stream",
     "text": [
      "Test Statistic: 6.209974073549517\n"
     ]
    }
   ],
   "source": [
    "# 검정통계량 계산\n",
    "t_term1 = mean1 - mean2\n",
    "t_term2 = np.sqrt((var1 / n1) + (var2 / n2))\n",
    "t = t_term1 / t_term2\n",
    "\n",
    "print(f'Test Statistic: {t}')"
   ]
  },
  {
   "cell_type": "code",
   "execution_count": 244,
   "metadata": {},
   "outputs": [
    {
     "name": "stdout",
     "output_type": "stream",
     "text": [
      "Degree of Freedom: 19\n"
     ]
    }
   ],
   "source": [
    "# 자유도 계산\n",
    "from math import floor\n",
    "\n",
    "df_term1 = np.power((var1/n1 + var2/n2), 2)\n",
    "df_term2 = (np.power(var1/n1, 2) / (n1-1)) + (np.power(var2/n2, 2) / (n2-1))\n",
    "\n",
    "df = floor(df_term1 / df_term2) # df 계산 시 round down을 하도록 하겠습니다.\n",
    "print(f'Degree of Freedom: {df}')"
   ]
  },
  {
   "cell_type": "code",
   "execution_count": 245,
   "metadata": {},
   "outputs": [
    {
     "name": "stdout",
     "output_type": "stream",
     "text": [
      "p_value: 2.883022744315511e-06\n"
     ]
    }
   ],
   "source": [
    "# p-value 도출\n",
    "p_value = 1 - stats.t.cdf(t, df=df) \n",
    "print(f'p_value: {p_value}')"
   ]
  },
  {
   "cell_type": "code",
   "execution_count": 246,
   "metadata": {},
   "outputs": [
    {
     "data": {
      "text/html": [
       "<div>\n",
       "<style scoped>\n",
       "    .dataframe tbody tr th:only-of-type {\n",
       "        vertical-align: middle;\n",
       "    }\n",
       "\n",
       "    .dataframe tbody tr th {\n",
       "        vertical-align: top;\n",
       "    }\n",
       "\n",
       "    .dataframe thead th {\n",
       "        text-align: right;\n",
       "    }\n",
       "</style>\n",
       "<table border=\"1\" class=\"dataframe\">\n",
       "  <thead>\n",
       "    <tr style=\"text-align: right;\">\n",
       "      <th></th>\n",
       "      <th>t-Test</th>\n",
       "    </tr>\n",
       "  </thead>\n",
       "  <tbody>\n",
       "    <tr>\n",
       "      <th>Critical (left) value for two-tail test</th>\n",
       "      <td>-2.0930</td>\n",
       "    </tr>\n",
       "    <tr>\n",
       "      <th>Critical (right) value for two-tail test</th>\n",
       "      <td>2.0930</td>\n",
       "    </tr>\n",
       "    <tr>\n",
       "      <th>Critical value for one-tail test</th>\n",
       "      <td>1.7291</td>\n",
       "    </tr>\n",
       "    <tr>\n",
       "      <th>P(T&lt;=t) one tail</th>\n",
       "      <td>0.0000</td>\n",
       "    </tr>\n",
       "    <tr>\n",
       "      <th>P(T&lt;=t) two tail</th>\n",
       "      <td>0.0000</td>\n",
       "    </tr>\n",
       "    <tr>\n",
       "      <th>df</th>\n",
       "      <td>19.0000</td>\n",
       "    </tr>\n",
       "    <tr>\n",
       "      <th>t Stat</th>\n",
       "      <td>6.2100</td>\n",
       "    </tr>\n",
       "  </tbody>\n",
       "</table>\n",
       "</div>"
      ],
      "text/plain": [
       "                                           t-Test\n",
       "Critical (left) value for two-tail test   -2.0930\n",
       "Critical (right) value for two-tail test   2.0930\n",
       "Critical value for one-tail test           1.7291\n",
       "P(T<=t) one tail                           0.0000\n",
       "P(T<=t) two tail                           0.0000\n",
       "df                                        19.0000\n",
       "t Stat                                     6.2100"
      ]
     },
     "execution_count": 246,
     "metadata": {},
     "output_type": "execute_result"
    }
   ],
   "source": [
    "alpha = 0.05\n",
    "\n",
    "ttest_table = pd.DataFrame(\n",
    "{'t-Test':\n",
    "    {\n",
    "        'df': df, \n",
    "        't Stat': t, \n",
    "        'P(T<=t) one tail': p_value,\n",
    "        'P(T<=t) two tail': p_value*2,\n",
    "        'Critical value for one-tail test': -stats.t.ppf(q=alpha,df=df),\n",
    "        'Critical (left) value for two-tail test': stats.t.ppf(q=alpha/2,df=df),\n",
    "        'Critical (right) value for two-tail test': -stats.t.ppf(q=alpha/2,df=df),\n",
    "\n",
    "    }\n",
    "})\n",
    "ttest_table = ttest_table.round(4)\n",
    "ttest_table"
   ]
  },
  {
   "cell_type": "code",
   "execution_count": 97,
   "metadata": {},
   "outputs": [
    {
     "name": "stdout",
     "output_type": "stream",
     "text": [
      "            서울\n",
      "1999  147307.0\n",
      "2000  165113.0\n",
      "2001  178595.0\n",
      "2002  199442.0\n",
      "2003  212213.0\n",
      "2004  219391.0\n",
      "2005  232177.0\n",
      "2006  245598.0\n",
      "2007  266599.0\n",
      "2008  282066.0\n",
      "2009  293694.0\n",
      "2010  313281.0\n",
      "2011  326415.0\n",
      "2012  334325.0\n",
      "2013  340712.0\n",
      "2014  350258.0\n",
      "2015  370168.0\n",
      "2016  387364.0\n",
      "2017  404080.0\n",
      "2018  423742.0\n",
      "2019  435927.0\n",
      "2020  444545.0\n",
      "2021  471731.0\n",
      "      서울특별시\n",
      "2000   60.9\n",
      "2001   61.5\n",
      "2002   62.4\n",
      "2003   62.6\n",
      "2004   63.8\n",
      "2005   64.3\n",
      "2006   64.4\n",
      "2007   64.7\n",
      "2008   64.3\n",
      "2009   62.7\n",
      "2010   63.6\n",
      "2011   64.7\n",
      "2012   64.7\n",
      "2013   65.0\n",
      "2014   65.7\n",
      "2015   65.5\n",
      "2016   65.8\n",
      "2017   66.4\n",
      "2018   66.0\n",
      "2019   66.3\n",
      "2020   65.9\n",
      "2021   66.6\n"
     ]
    }
   ],
   "source": [
    "# 먼저 서울특별시의 GRDP성장률과 고용률만 비교를 해보자.\n",
    "'''\n",
    "서울의 평균 GRDP 성장률은 5.57%\n",
    "평균 성장률이 5.57%와 같거나 높은 년도와 낮은 년도의 고용률을 나누기 위해서 데이터 전처리를 한다.\n",
    "둘의 비교\n",
    "'''\n",
    "#df1 = df1.T\n",
    "#df2 = df2.T\n",
    "seoul1 = df1.iloc[1:2,14:]\n",
    "seoul2 = df2.iloc[1:2,:22]\n",
    "seoul1 = seoul1.T\n",
    "seoul2 = seoul2.T\n",
    "print(seoul1)\n",
    "print(seoul2)"
   ]
  },
  {
   "cell_type": "code",
   "execution_count": 98,
   "metadata": {},
   "outputs": [
    {
     "ename": "ValueError",
     "evalue": "The indices for endog and exog are not aligned",
     "output_type": "error",
     "traceback": [
      "\u001b[0;31m---------------------------------------------------------------------------\u001b[0m",
      "\u001b[0;31mValueError\u001b[0m                                Traceback (most recent call last)",
      "Cell \u001b[0;32mIn[98], line 3\u001b[0m\n\u001b[1;32m      1\u001b[0m seoul1 \u001b[38;5;241m=\u001b[39m sm\u001b[38;5;241m.\u001b[39madd_constant(seoul1)\n\u001b[0;32m----> 3\u001b[0m model \u001b[38;5;241m=\u001b[39m \u001b[43msm\u001b[49m\u001b[38;5;241;43m.\u001b[39;49m\u001b[43mOLS\u001b[49m\u001b[43m(\u001b[49m\u001b[43mseoul2\u001b[49m\u001b[43m,\u001b[49m\u001b[43m \u001b[49m\u001b[43mseoul1\u001b[49m\u001b[43m)\u001b[49m\n\u001b[1;32m      4\u001b[0m result \u001b[38;5;241m=\u001b[39m model\u001b[38;5;241m.\u001b[39mfit()\n\u001b[1;32m      6\u001b[0m \u001b[38;5;28mprint\u001b[39m(result\u001b[38;5;241m.\u001b[39msummary())\n",
      "File \u001b[0;32m/Library/Frameworks/Python.framework/Versions/3.11/lib/python3.11/site-packages/statsmodels/regression/linear_model.py:922\u001b[0m, in \u001b[0;36mOLS.__init__\u001b[0;34m(self, endog, exog, missing, hasconst, **kwargs)\u001b[0m\n\u001b[1;32m    919\u001b[0m     msg \u001b[39m=\u001b[39m (\u001b[39m\"\u001b[39m\u001b[39mWeights are not supported in OLS and will be ignored\u001b[39m\u001b[39m\"\u001b[39m\n\u001b[1;32m    920\u001b[0m            \u001b[39m\"\u001b[39m\u001b[39mAn exception will be raised in the next version.\u001b[39m\u001b[39m\"\u001b[39m)\n\u001b[1;32m    921\u001b[0m     warnings\u001b[39m.\u001b[39mwarn(msg, ValueWarning)\n\u001b[0;32m--> 922\u001b[0m \u001b[39msuper\u001b[39;49m(OLS, \u001b[39mself\u001b[39;49m)\u001b[39m.\u001b[39;49m\u001b[39m__init__\u001b[39;49m(endog, exog, missing\u001b[39m=\u001b[39;49mmissing,\n\u001b[1;32m    923\u001b[0m                           hasconst\u001b[39m=\u001b[39;49mhasconst, \u001b[39m*\u001b[39;49m\u001b[39m*\u001b[39;49mkwargs)\n\u001b[1;32m    924\u001b[0m \u001b[39mif\u001b[39;00m \u001b[39m\"\u001b[39m\u001b[39mweights\u001b[39m\u001b[39m\"\u001b[39m \u001b[39min\u001b[39;00m \u001b[39mself\u001b[39m\u001b[39m.\u001b[39m_init_keys:\n\u001b[1;32m    925\u001b[0m     \u001b[39mself\u001b[39m\u001b[39m.\u001b[39m_init_keys\u001b[39m.\u001b[39mremove(\u001b[39m\"\u001b[39m\u001b[39mweights\u001b[39m\u001b[39m\"\u001b[39m)\n",
      "File \u001b[0;32m/Library/Frameworks/Python.framework/Versions/3.11/lib/python3.11/site-packages/statsmodels/regression/linear_model.py:748\u001b[0m, in \u001b[0;36mWLS.__init__\u001b[0;34m(self, endog, exog, weights, missing, hasconst, **kwargs)\u001b[0m\n\u001b[1;32m    746\u001b[0m \u001b[39melse\u001b[39;00m:\n\u001b[1;32m    747\u001b[0m     weights \u001b[39m=\u001b[39m weights\u001b[39m.\u001b[39msqueeze()\n\u001b[0;32m--> 748\u001b[0m \u001b[39msuper\u001b[39;49m(WLS, \u001b[39mself\u001b[39;49m)\u001b[39m.\u001b[39;49m\u001b[39m__init__\u001b[39;49m(endog, exog, missing\u001b[39m=\u001b[39;49mmissing,\n\u001b[1;32m    749\u001b[0m                           weights\u001b[39m=\u001b[39;49mweights, hasconst\u001b[39m=\u001b[39;49mhasconst, \u001b[39m*\u001b[39;49m\u001b[39m*\u001b[39;49mkwargs)\n\u001b[1;32m    750\u001b[0m nobs \u001b[39m=\u001b[39m \u001b[39mself\u001b[39m\u001b[39m.\u001b[39mexog\u001b[39m.\u001b[39mshape[\u001b[39m0\u001b[39m]\n\u001b[1;32m    751\u001b[0m weights \u001b[39m=\u001b[39m \u001b[39mself\u001b[39m\u001b[39m.\u001b[39mweights\n",
      "File \u001b[0;32m/Library/Frameworks/Python.framework/Versions/3.11/lib/python3.11/site-packages/statsmodels/regression/linear_model.py:202\u001b[0m, in \u001b[0;36mRegressionModel.__init__\u001b[0;34m(self, endog, exog, **kwargs)\u001b[0m\n\u001b[1;32m    201\u001b[0m \u001b[39mdef\u001b[39;00m \u001b[39m__init__\u001b[39m(\u001b[39mself\u001b[39m, endog, exog, \u001b[39m*\u001b[39m\u001b[39m*\u001b[39mkwargs):\n\u001b[0;32m--> 202\u001b[0m     \u001b[39msuper\u001b[39;49m(RegressionModel, \u001b[39mself\u001b[39;49m)\u001b[39m.\u001b[39;49m\u001b[39m__init__\u001b[39;49m(endog, exog, \u001b[39m*\u001b[39;49m\u001b[39m*\u001b[39;49mkwargs)\n\u001b[1;32m    203\u001b[0m     \u001b[39mself\u001b[39m\u001b[39m.\u001b[39mpinv_wexog: Float64Array \u001b[39m|\u001b[39m \u001b[39mNone\u001b[39;00m \u001b[39m=\u001b[39m \u001b[39mNone\u001b[39;00m\n\u001b[1;32m    204\u001b[0m     \u001b[39mself\u001b[39m\u001b[39m.\u001b[39m_data_attr\u001b[39m.\u001b[39mextend([\u001b[39m'\u001b[39m\u001b[39mpinv_wexog\u001b[39m\u001b[39m'\u001b[39m, \u001b[39m'\u001b[39m\u001b[39mwendog\u001b[39m\u001b[39m'\u001b[39m, \u001b[39m'\u001b[39m\u001b[39mwexog\u001b[39m\u001b[39m'\u001b[39m, \u001b[39m'\u001b[39m\u001b[39mweights\u001b[39m\u001b[39m'\u001b[39m])\n",
      "File \u001b[0;32m/Library/Frameworks/Python.framework/Versions/3.11/lib/python3.11/site-packages/statsmodels/base/model.py:270\u001b[0m, in \u001b[0;36mLikelihoodModel.__init__\u001b[0;34m(self, endog, exog, **kwargs)\u001b[0m\n\u001b[1;32m    269\u001b[0m \u001b[39mdef\u001b[39;00m \u001b[39m__init__\u001b[39m(\u001b[39mself\u001b[39m, endog, exog\u001b[39m=\u001b[39m\u001b[39mNone\u001b[39;00m, \u001b[39m*\u001b[39m\u001b[39m*\u001b[39mkwargs):\n\u001b[0;32m--> 270\u001b[0m     \u001b[39msuper\u001b[39;49m()\u001b[39m.\u001b[39;49m\u001b[39m__init__\u001b[39;49m(endog, exog, \u001b[39m*\u001b[39;49m\u001b[39m*\u001b[39;49mkwargs)\n\u001b[1;32m    271\u001b[0m     \u001b[39mself\u001b[39m\u001b[39m.\u001b[39minitialize()\n",
      "File \u001b[0;32m/Library/Frameworks/Python.framework/Versions/3.11/lib/python3.11/site-packages/statsmodels/base/model.py:95\u001b[0m, in \u001b[0;36mModel.__init__\u001b[0;34m(self, endog, exog, **kwargs)\u001b[0m\n\u001b[1;32m     93\u001b[0m missing \u001b[39m=\u001b[39m kwargs\u001b[39m.\u001b[39mpop(\u001b[39m'\u001b[39m\u001b[39mmissing\u001b[39m\u001b[39m'\u001b[39m, \u001b[39m'\u001b[39m\u001b[39mnone\u001b[39m\u001b[39m'\u001b[39m)\n\u001b[1;32m     94\u001b[0m hasconst \u001b[39m=\u001b[39m kwargs\u001b[39m.\u001b[39mpop(\u001b[39m'\u001b[39m\u001b[39mhasconst\u001b[39m\u001b[39m'\u001b[39m, \u001b[39mNone\u001b[39;00m)\n\u001b[0;32m---> 95\u001b[0m \u001b[39mself\u001b[39m\u001b[39m.\u001b[39mdata \u001b[39m=\u001b[39m \u001b[39mself\u001b[39;49m\u001b[39m.\u001b[39;49m_handle_data(endog, exog, missing, hasconst,\n\u001b[1;32m     96\u001b[0m                               \u001b[39m*\u001b[39;49m\u001b[39m*\u001b[39;49mkwargs)\n\u001b[1;32m     97\u001b[0m \u001b[39mself\u001b[39m\u001b[39m.\u001b[39mk_constant \u001b[39m=\u001b[39m \u001b[39mself\u001b[39m\u001b[39m.\u001b[39mdata\u001b[39m.\u001b[39mk_constant\n\u001b[1;32m     98\u001b[0m \u001b[39mself\u001b[39m\u001b[39m.\u001b[39mexog \u001b[39m=\u001b[39m \u001b[39mself\u001b[39m\u001b[39m.\u001b[39mdata\u001b[39m.\u001b[39mexog\n",
      "File \u001b[0;32m/Library/Frameworks/Python.framework/Versions/3.11/lib/python3.11/site-packages/statsmodels/base/model.py:135\u001b[0m, in \u001b[0;36mModel._handle_data\u001b[0;34m(self, endog, exog, missing, hasconst, **kwargs)\u001b[0m\n\u001b[1;32m    134\u001b[0m \u001b[39mdef\u001b[39;00m \u001b[39m_handle_data\u001b[39m(\u001b[39mself\u001b[39m, endog, exog, missing, hasconst, \u001b[39m*\u001b[39m\u001b[39m*\u001b[39mkwargs):\n\u001b[0;32m--> 135\u001b[0m     data \u001b[39m=\u001b[39m handle_data(endog, exog, missing, hasconst, \u001b[39m*\u001b[39;49m\u001b[39m*\u001b[39;49mkwargs)\n\u001b[1;32m    136\u001b[0m     \u001b[39m# kwargs arrays could have changed, easier to just attach here\u001b[39;00m\n\u001b[1;32m    137\u001b[0m     \u001b[39mfor\u001b[39;00m key \u001b[39min\u001b[39;00m kwargs:\n",
      "File \u001b[0;32m/Library/Frameworks/Python.framework/Versions/3.11/lib/python3.11/site-packages/statsmodels/base/data.py:675\u001b[0m, in \u001b[0;36mhandle_data\u001b[0;34m(endog, exog, missing, hasconst, **kwargs)\u001b[0m\n\u001b[1;32m    672\u001b[0m     exog \u001b[39m=\u001b[39m np\u001b[39m.\u001b[39masarray(exog)\n\u001b[1;32m    674\u001b[0m klass \u001b[39m=\u001b[39m handle_data_class_factory(endog, exog)\n\u001b[0;32m--> 675\u001b[0m \u001b[39mreturn\u001b[39;00m klass(endog, exog\u001b[39m=\u001b[39;49mexog, missing\u001b[39m=\u001b[39;49mmissing, hasconst\u001b[39m=\u001b[39;49mhasconst,\n\u001b[1;32m    676\u001b[0m              \u001b[39m*\u001b[39;49m\u001b[39m*\u001b[39;49mkwargs)\n",
      "File \u001b[0;32m/Library/Frameworks/Python.framework/Versions/3.11/lib/python3.11/site-packages/statsmodels/base/data.py:89\u001b[0m, in \u001b[0;36mModelData.__init__\u001b[0;34m(self, endog, exog, missing, hasconst, **kwargs)\u001b[0m\n\u001b[1;32m     87\u001b[0m \u001b[39mself\u001b[39m\u001b[39m.\u001b[39mk_constant \u001b[39m=\u001b[39m \u001b[39m0\u001b[39m\n\u001b[1;32m     88\u001b[0m \u001b[39mself\u001b[39m\u001b[39m.\u001b[39m_handle_constant(hasconst)\n\u001b[0;32m---> 89\u001b[0m \u001b[39mself\u001b[39;49m\u001b[39m.\u001b[39;49m_check_integrity()\n\u001b[1;32m     90\u001b[0m \u001b[39mself\u001b[39m\u001b[39m.\u001b[39m_cache \u001b[39m=\u001b[39m {}\n",
      "File \u001b[0;32m/Library/Frameworks/Python.framework/Versions/3.11/lib/python3.11/site-packages/statsmodels/base/data.py:533\u001b[0m, in \u001b[0;36mPandasData._check_integrity\u001b[0;34m(self)\u001b[0m\n\u001b[1;32m    529\u001b[0m \u001b[39m# exog can be None and we could be upcasting one or the other\u001b[39;00m\n\u001b[1;32m    530\u001b[0m \u001b[39mif\u001b[39;00m (exog \u001b[39mis\u001b[39;00m \u001b[39mnot\u001b[39;00m \u001b[39mNone\u001b[39;00m \u001b[39mand\u001b[39;00m\n\u001b[1;32m    531\u001b[0m         (\u001b[39mhasattr\u001b[39m(endog, \u001b[39m'\u001b[39m\u001b[39mindex\u001b[39m\u001b[39m'\u001b[39m) \u001b[39mand\u001b[39;00m \u001b[39mhasattr\u001b[39m(exog, \u001b[39m'\u001b[39m\u001b[39mindex\u001b[39m\u001b[39m'\u001b[39m)) \u001b[39mand\u001b[39;00m\n\u001b[1;32m    532\u001b[0m         \u001b[39mnot\u001b[39;00m \u001b[39mself\u001b[39m\u001b[39m.\u001b[39morig_endog\u001b[39m.\u001b[39mindex\u001b[39m.\u001b[39mequals(\u001b[39mself\u001b[39m\u001b[39m.\u001b[39morig_exog\u001b[39m.\u001b[39mindex)):\n\u001b[0;32m--> 533\u001b[0m     \u001b[39mraise\u001b[39;00m \u001b[39mValueError\u001b[39;00m(\u001b[39m\"\u001b[39m\u001b[39mThe indices for endog and exog are not aligned\u001b[39m\u001b[39m\"\u001b[39m)\n\u001b[1;32m    534\u001b[0m \u001b[39msuper\u001b[39m(PandasData, \u001b[39mself\u001b[39m)\u001b[39m.\u001b[39m_check_integrity()\n",
      "\u001b[0;31mValueError\u001b[0m: The indices for endog and exog are not aligned"
     ]
    }
   ],
   "source": [
    "seoul1 = sm.add_constant(seoul1)\n",
    "\n",
    "model = sm.OLS(seoul2, seoul1)\n",
    "result = model.fit()\n",
    "\n",
    "print(result.summary())"
   ]
  },
  {
   "cell_type": "code",
   "execution_count": 248,
   "metadata": {},
   "outputs": [
    {
     "data": {
      "text/html": [
       "<div>\n",
       "<style scoped>\n",
       "    .dataframe tbody tr th:only-of-type {\n",
       "        vertical-align: middle;\n",
       "    }\n",
       "\n",
       "    .dataframe tbody tr th {\n",
       "        vertical-align: top;\n",
       "    }\n",
       "\n",
       "    .dataframe thead th {\n",
       "        text-align: right;\n",
       "    }\n",
       "</style>\n",
       "<table border=\"1\" class=\"dataframe\">\n",
       "  <thead>\n",
       "    <tr style=\"text-align: right;\">\n",
       "      <th></th>\n",
       "      <th>GRDP</th>\n",
       "      <th>Employment</th>\n",
       "    </tr>\n",
       "  </thead>\n",
       "  <tbody>\n",
       "    <tr>\n",
       "      <th>2000</th>\n",
       "      <td>45717.0</td>\n",
       "      <td>66.0</td>\n",
       "    </tr>\n",
       "    <tr>\n",
       "      <th>2001</th>\n",
       "      <td>47614.0</td>\n",
       "      <td>66.6</td>\n",
       "    </tr>\n",
       "    <tr>\n",
       "      <th>2002</th>\n",
       "      <td>51835.0</td>\n",
       "      <td>67.2</td>\n",
       "    </tr>\n",
       "    <tr>\n",
       "      <th>2003</th>\n",
       "      <td>56812.0</td>\n",
       "      <td>68.0</td>\n",
       "    </tr>\n",
       "    <tr>\n",
       "      <th>2004</th>\n",
       "      <td>63876.0</td>\n",
       "      <td>68.3</td>\n",
       "    </tr>\n",
       "    <tr>\n",
       "      <th>2005</th>\n",
       "      <td>67050.0</td>\n",
       "      <td>68.0</td>\n",
       "    </tr>\n",
       "    <tr>\n",
       "      <th>2006</th>\n",
       "      <td>68926.0</td>\n",
       "      <td>67.9</td>\n",
       "    </tr>\n",
       "    <tr>\n",
       "      <th>2007</th>\n",
       "      <td>71810.0</td>\n",
       "      <td>67.2</td>\n",
       "    </tr>\n",
       "    <tr>\n",
       "      <th>2008</th>\n",
       "      <td>76392.0</td>\n",
       "      <td>66.9</td>\n",
       "    </tr>\n",
       "    <tr>\n",
       "      <th>2009</th>\n",
       "      <td>79082.0</td>\n",
       "      <td>65.9</td>\n",
       "    </tr>\n",
       "    <tr>\n",
       "      <th>2010</th>\n",
       "      <td>87701.0</td>\n",
       "      <td>66.2</td>\n",
       "    </tr>\n",
       "    <tr>\n",
       "      <th>2011</th>\n",
       "      <td>91010.0</td>\n",
       "      <td>65.9</td>\n",
       "    </tr>\n",
       "    <tr>\n",
       "      <th>2012</th>\n",
       "      <td>92989.0</td>\n",
       "      <td>66.7</td>\n",
       "    </tr>\n",
       "    <tr>\n",
       "      <th>2013</th>\n",
       "      <td>97212.0</td>\n",
       "      <td>66.6</td>\n",
       "    </tr>\n",
       "    <tr>\n",
       "      <th>2014</th>\n",
       "      <td>103477.0</td>\n",
       "      <td>68.2</td>\n",
       "    </tr>\n",
       "    <tr>\n",
       "      <th>2015</th>\n",
       "      <td>103120.0</td>\n",
       "      <td>67.6</td>\n",
       "    </tr>\n",
       "    <tr>\n",
       "      <th>2016</th>\n",
       "      <td>107441.0</td>\n",
       "      <td>67.5</td>\n",
       "    </tr>\n",
       "    <tr>\n",
       "      <th>2017</th>\n",
       "      <td>110028.0</td>\n",
       "      <td>67.9</td>\n",
       "    </tr>\n",
       "    <tr>\n",
       "      <th>2018</th>\n",
       "      <td>108783.0</td>\n",
       "      <td>66.9</td>\n",
       "    </tr>\n",
       "    <tr>\n",
       "      <th>2019</th>\n",
       "      <td>106805.0</td>\n",
       "      <td>67.4</td>\n",
       "    </tr>\n",
       "    <tr>\n",
       "      <th>2020</th>\n",
       "      <td>105772.0</td>\n",
       "      <td>66.4</td>\n",
       "    </tr>\n",
       "    <tr>\n",
       "      <th>2021</th>\n",
       "      <td>112785.0</td>\n",
       "      <td>65.7</td>\n",
       "    </tr>\n",
       "  </tbody>\n",
       "</table>\n",
       "</div>"
      ],
      "text/plain": [
       "          GRDP  Employment\n",
       "2000   45717.0        66.0\n",
       "2001   47614.0        66.6\n",
       "2002   51835.0        67.2\n",
       "2003   56812.0        68.0\n",
       "2004   63876.0        68.3\n",
       "2005   67050.0        68.0\n",
       "2006   68926.0        67.9\n",
       "2007   71810.0        67.2\n",
       "2008   76392.0        66.9\n",
       "2009   79082.0        65.9\n",
       "2010   87701.0        66.2\n",
       "2011   91010.0        65.9\n",
       "2012   92989.0        66.7\n",
       "2013   97212.0        66.6\n",
       "2014  103477.0        68.2\n",
       "2015  103120.0        67.6\n",
       "2016  107441.0        67.5\n",
       "2017  110028.0        67.9\n",
       "2018  108783.0        66.9\n",
       "2019  106805.0        67.4\n",
       "2020  105772.0        66.4\n",
       "2021  112785.0        65.7"
      ]
     },
     "execution_count": 248,
     "metadata": {},
     "output_type": "execute_result"
    }
   ],
   "source": [
    "'''\n",
    "단순 회귀분석\n",
    "일단 전체만 해본다\n",
    "'''\n",
    "df1 = df1.replace(',','',regex=True)\n",
    "c = df1.select_dtypes(object).columns\n",
    "df1[c] = df1[c].apply(pd.to_numeric,errors='coerce')\n",
    "\n",
    "total1 = df1.iloc[15:16,14:] # GRDP\n",
    "total2 = df2.iloc[15:16,:22] # 고용률\n",
    "total1 = total1.T\n",
    "total2 = total2.T\n",
    "\n",
    "data = pd.concat([total1, total2], axis=1, join='inner')\n",
    "data.columns = ['GRDP', 'Employment']\n",
    "\n",
    "mean_x = data[s_col].mean()\n",
    "mean_y = data[p_col].mean()\n",
    "data"
   ]
  },
  {
   "cell_type": "code",
   "execution_count": 249,
   "metadata": {},
   "outputs": [
    {
     "data": {
      "text/plain": [
       "-1887.709623322978"
      ]
     },
     "execution_count": 249,
     "metadata": {},
     "output_type": "execute_result"
    }
   ],
   "source": [
    "b1_term1 = np.sum((data[s_col] - mean_x)*(data[p_col] - mean_y))\n",
    "b1_term2 = np.sum(np.power(data[s_col] - mean_x, 2))\n",
    "\n",
    "b1 = b1_term1 / b1_term2\n",
    "b1"
   ]
  },
  {
   "cell_type": "code",
   "execution_count": 250,
   "metadata": {},
   "outputs": [
    {
     "data": {
      "text/plain": [
       "210936.75883642695"
      ]
     },
     "execution_count": 250,
     "metadata": {},
     "output_type": "execute_result"
    }
   ],
   "source": [
    "# 추정 회귀 방정식의 y 절편 계산\n",
    "b0 = mean_y - b1*mean_x\n",
    "b0"
   ]
  },
  {
   "cell_type": "code",
   "execution_count": 251,
   "metadata": {},
   "outputs": [],
   "source": [
    "# 추정 회귀 방정식\n",
    "data['y_hat'] = b0 + b1*data[s_col]"
   ]
  },
  {
   "cell_type": "code",
   "execution_count": 252,
   "metadata": {},
   "outputs": [
    {
     "data": {
      "image/png": "[encoded data removed]",
      "text/plain": [
       "<Figure size 640x480 with 1 Axes>"
      ]
     },
     "metadata": {},
     "output_type": "display_data"
    }
   ],
   "source": [
    "# 회귀선 나타내기\n",
    "plt.plot(data[s_col], data[p_col], 'o')\n",
    "plt.plot(data[s_col], data['y_hat'])\n",
    "plt.ylabel('GRDP')\n",
    "plt.xlabel('Employment Rate')\n",
    "plt.show()"
   ]
  },
  {
   "cell_type": "code",
   "execution_count": 253,
   "metadata": {},
   "outputs": [
    {
     "data": {
      "text/plain": [
       "(array([210936.75883643]), array([[-1887.70962332]]))"
      ]
     },
     "execution_count": 253,
     "metadata": {},
     "output_type": "execute_result"
    }
   ],
   "source": [
    "'''\n",
    "회귀분석 툴을 이용하여 값 비교\n",
    "'''\n",
    "X = data[s_col].values.reshape(-1,1) # s_col = 'Employment Rate'\n",
    "y = data[p_col].values.reshape(-1,1) # p_col = 'GRDP'\n",
    "\n",
    "reg = LinearRegression().fit(X, y)\n",
    "reg.intercept_, reg.coef_"
   ]
  },
  {
   "cell_type": "code",
   "execution_count": 254,
   "metadata": {},
   "outputs": [
    {
     "data": {
      "image/png": "[encoded data removed]",
      "text/plain": [
       "<Figure size 640x480 with 1 Axes>"
      ]
     },
     "metadata": {},
     "output_type": "display_data"
    }
   ],
   "source": [
    "plt.plot(X, y, 'o')\n",
    "plt.plot(X, reg.predict(X))\n",
    "plt.ylabel('GRDP')\n",
    "plt.xlabel('Employment Rate')\n",
    "plt.show()"
   ]
  },
  {
   "cell_type": "code",
   "execution_count": 255,
   "metadata": {},
   "outputs": [
    {
     "data": {
      "text/html": [
       "<table class=\"simpletable\">\n",
       "<caption>OLS Regression Results</caption>\n",
       "<tr>\n",
       "  <th>Dep. Variable:</th>            <td>y</td>        <th>  R-squared:         </th> <td>   0.005</td>\n",
       "</tr>\n",
       "<tr>\n",
       "  <th>Model:</th>                   <td>OLS</td>       <th>  Adj. R-squared:    </th> <td>  -0.045</td>\n",
       "</tr>\n",
       "<tr>\n",
       "  <th>Method:</th>             <td>Least Squares</td>  <th>  F-statistic:       </th> <td> 0.09671</td>\n",
       "</tr>\n",
       "<tr>\n",
       "  <th>Date:</th>             <td>Sun, 04 Jun 2023</td> <th>  Prob (F-statistic):</th>  <td> 0.759</td> \n",
       "</tr>\n",
       "<tr>\n",
       "  <th>Time:</th>                 <td>22:34:29</td>     <th>  Log-Likelihood:    </th> <td> -250.92</td>\n",
       "</tr>\n",
       "<tr>\n",
       "  <th>No. Observations:</th>      <td>    22</td>      <th>  AIC:               </th> <td>   505.8</td>\n",
       "</tr>\n",
       "<tr>\n",
       "  <th>Df Residuals:</th>          <td>    20</td>      <th>  BIC:               </th> <td>   508.0</td>\n",
       "</tr>\n",
       "<tr>\n",
       "  <th>Df Model:</th>              <td>     1</td>      <th>                     </th>     <td> </td>   \n",
       "</tr>\n",
       "<tr>\n",
       "  <th>Covariance Type:</th>      <td>nonrobust</td>    <th>                     </th>     <td> </td>   \n",
       "</tr>\n",
       "</table>\n",
       "<table class=\"simpletable\">\n",
       "<tr>\n",
       "    <td></td>       <th>coef</th>     <th>std err</th>      <th>t</th>      <th>P>|t|</th>  <th>[0.025</th>    <th>0.975]</th>  \n",
       "</tr>\n",
       "<tr>\n",
       "  <th>const</th> <td> 2.109e+05</td> <td> 4.07e+05</td> <td>    0.518</td> <td> 0.610</td> <td>-6.38e+05</td> <td> 1.06e+06</td>\n",
       "</tr>\n",
       "<tr>\n",
       "  <th>x1</th>    <td>-1887.7096</td> <td> 6070.246</td> <td>   -0.311</td> <td> 0.759</td> <td>-1.46e+04</td> <td> 1.08e+04</td>\n",
       "</tr>\n",
       "</table>\n",
       "<table class=\"simpletable\">\n",
       "<tr>\n",
       "  <th>Omnibus:</th>       <td> 3.610</td> <th>  Durbin-Watson:     </th> <td>   0.044</td>\n",
       "</tr>\n",
       "<tr>\n",
       "  <th>Prob(Omnibus):</th> <td> 0.164</td> <th>  Jarque-Bera (JB):  </th> <td>   1.718</td>\n",
       "</tr>\n",
       "<tr>\n",
       "  <th>Skew:</th>          <td>-0.356</td> <th>  Prob(JB):          </th> <td>   0.424</td>\n",
       "</tr>\n",
       "<tr>\n",
       "  <th>Kurtosis:</th>      <td> 1.831</td> <th>  Cond. No.          </th> <td>5.62e+03</td>\n",
       "</tr>\n",
       "</table><br/><br/>Notes:<br/>[1] Standard Errors assume that the covariance matrix of the errors is correctly specified.<br/>[2] The condition number is large, 5.62e+03. This might indicate that there are<br/>strong multicollinearity or other numerical problems."
      ],
      "text/latex": [
       "\\begin{center}\n",
       "\\begin{tabular}{lclc}\n",
       "\\toprule\n",
       "\\textbf{Dep. Variable:}    &        y         & \\textbf{  R-squared:         } &     0.005   \\\\\n",
       "\\textbf{Model:}            &       OLS        & \\textbf{  Adj. R-squared:    } &    -0.045   \\\\\n",
       "\\textbf{Method:}           &  Least Squares   & \\textbf{  F-statistic:       } &   0.09671   \\\\\n",
       "\\textbf{Date:}             & Sun, 04 Jun 2023 & \\textbf{  Prob (F-statistic):} &    0.759    \\\\\n",
       "\\textbf{Time:}             &     22:34:29     & \\textbf{  Log-Likelihood:    } &   -250.92   \\\\\n",
       "\\textbf{No. Observations:} &          22      & \\textbf{  AIC:               } &     505.8   \\\\\n",
       "\\textbf{Df Residuals:}     &          20      & \\textbf{  BIC:               } &     508.0   \\\\\n",
       "\\textbf{Df Model:}         &           1      & \\textbf{                     } &             \\\\\n",
       "\\textbf{Covariance Type:}  &    nonrobust     & \\textbf{                     } &             \\\\\n",
       "\\bottomrule\n",
       "\\end{tabular}\n",
       "\\begin{tabular}{lcccccc}\n",
       "               & \\textbf{coef} & \\textbf{std err} & \\textbf{t} & \\textbf{P$> |$t$|$} & \\textbf{[0.025} & \\textbf{0.975]}  \\\\\n",
       "\\midrule\n",
       "\\textbf{const} &    2.109e+05  &     4.07e+05     &     0.518  &         0.610        &    -6.38e+05    &     1.06e+06     \\\\\n",
       "\\textbf{x1}    &   -1887.7096  &     6070.246     &    -0.311  &         0.759        &    -1.46e+04    &     1.08e+04     \\\\\n",
       "\\bottomrule\n",
       "\\end{tabular}\n",
       "\\begin{tabular}{lclc}\n",
       "\\textbf{Omnibus:}       &  3.610 & \\textbf{  Durbin-Watson:     } &    0.044  \\\\\n",
       "\\textbf{Prob(Omnibus):} &  0.164 & \\textbf{  Jarque-Bera (JB):  } &    1.718  \\\\\n",
       "\\textbf{Skew:}          & -0.356 & \\textbf{  Prob(JB):          } &    0.424  \\\\\n",
       "\\textbf{Kurtosis:}      &  1.831 & \\textbf{  Cond. No.          } & 5.62e+03  \\\\\n",
       "\\bottomrule\n",
       "\\end{tabular}\n",
       "%\\caption{OLS Regression Results}\n",
       "\\end{center}\n",
       "\n",
       "Notes: \\newline\n",
       " [1] Standard Errors assume that the covariance matrix of the errors is correctly specified. \\newline\n",
       " [2] The condition number is large, 5.62e+03. This might indicate that there are \\newline\n",
       " strong multicollinearity or other numerical problems."
      ],
      "text/plain": [
       "<class 'statsmodels.iolib.summary.Summary'>\n",
       "\"\"\"\n",
       "                            OLS Regression Results                            \n",
       "==============================================================================\n",
       "Dep. Variable:                      y   R-squared:                       0.005\n",
       "Model:                            OLS   Adj. R-squared:                 -0.045\n",
       "Method:                 Least Squares   F-statistic:                   0.09671\n",
       "Date:                Sun, 04 Jun 2023   Prob (F-statistic):              0.759\n",
       "Time:                        22:34:29   Log-Likelihood:                -250.92\n",
       "No. Observations:                  22   AIC:                             505.8\n",
       "Df Residuals:                      20   BIC:                             508.0\n",
       "Df Model:                           1                                         \n",
       "Covariance Type:            nonrobust                                         \n",
       "==============================================================================\n",
       "                 coef    std err          t      P>|t|      [0.025      0.975]\n",
       "------------------------------------------------------------------------------\n",
       "const       2.109e+05   4.07e+05      0.518      0.610   -6.38e+05    1.06e+06\n",
       "x1         -1887.7096   6070.246     -0.311      0.759   -1.46e+04    1.08e+04\n",
       "==============================================================================\n",
       "Omnibus:                        3.610   Durbin-Watson:                   0.044\n",
       "Prob(Omnibus):                  0.164   Jarque-Bera (JB):                1.718\n",
       "Skew:                          -0.356   Prob(JB):                        0.424\n",
       "Kurtosis:                       1.831   Cond. No.                     5.62e+03\n",
       "==============================================================================\n",
       "\n",
       "Notes:\n",
       "[1] Standard Errors assume that the covariance matrix of the errors is correctly specified.\n",
       "[2] The condition number is large, 5.62e+03. This might indicate that there are\n",
       "strong multicollinearity or other numerical problems.\n",
       "\"\"\""
      ]
     },
     "execution_count": 255,
     "metadata": {},
     "output_type": "execute_result"
    }
   ],
   "source": [
    "'''\n",
    "회귀분석에 대한 구체적인 결과\n",
    "'''\n",
    "from statsmodels.api import OLS\n",
    "from statsmodels.api import add_constant\n",
    "\n",
    "X2 = add_constant(X)\n",
    "est = OLS(y, X2)\n",
    "est = est.fit()\n",
    "\n",
    "est.summary()"
   ]
  }
 ],
 "metadata": {
  "kernelspec": {
   "display_name": "Python 3.11.1 64-bit",
   "language": "python",
   "name": "python3"
  },
  "language_info": {
   "codemirror_mode": {
    "name": "ipython",
    "version": 3
   },
   "file_extension": ".py",
   "mimetype": "text/x-python",
   "name": "python",
   "nbconvert_exporter": "python",
   "pygments_lexer": "ipython3",
   "version": "3.11.1"
  },
  "orig_nbformat": 4,
  "vscode": {
   "interpreter": {
    "hash": "aee8b7b246df8f9039afb4144a1f6fd8d2ca17a180786b69acc140d282b71a49"
   }
  }
 },
 "nbformat": 4,
 "nbformat_minor": 2
}
