{
 "cells": [
  {
   "cell_type": "markdown",
   "metadata": {},
   "source": [
    "# 한국 지역내총생산(GRDP)의 증가율과 고용률의 관계에 대한 가설 검정\n",
    "경제 성장이 고용 창출을 이루어 내는지에 대한 연구를 통하여 관련성을 입증하고, 특히 한국의 각 지역별(광역시, 특별시, 도)의 총생산과 고용률을 데이터로 사용하여 연구함으로써 수도권과 지방의 불균형으로 인해 지방 소멸이 큰 문제로 대두되고 있는 한국에서 각 지역의 경제적 특성과 요구에 맞춘 정책 개발과 실행을 가능케 하며, 지역 간 불균형 해소, 사회적 안정, 자원 활용, 경제 경쟁력 강화 등에 도움을 줄 수 있다."
   ]
  },
  {
   "cell_type": "code",
   "execution_count": 18,
   "metadata": {},
   "outputs": [],
   "source": [
    "import pandas as pd\n",
    "import numpy as np\n",
    "from scipy import stats\n",
    "import statsmodels.api as sm\n",
    "import matplotlib.pyplot as plt\n",
    "plt.rc('font', family='AppleGothic')\n",
    "plt.rcParams['axes.unicode_minus'] = False\n",
    "%matplotlib inline\n",
    "\n",
    "df1 = pd.read_excel(\"grdp.xlsx\", index_col=0) # use first column as index\n",
    "df2 = pd.read_csv(\"employment.csv\", encoding='cp949', index_col=0) "
   ]
  },
  {
   "cell_type": "code",
   "execution_count": 19,
   "metadata": {},
   "outputs": [
    {
     "name": "stdout",
     "output_type": "stream",
     "text": [
      "    1986  1987  1988  1989  1990  1991  1992  1993  1994  1995  ...  2012   \n",
      "전국  10.8  12.3  12.1   6.9  10.3  10.6   5.8   6.8   9.1  10.1  ...   2.3  \\\n",
      "서울  10.8  13.8  10.6   7.6  10.3   8.8   8.2   8.1   6.4   6.8  ...   1.4   \n",
      "부산   9.1  10.4   9.5   1.4  14.7   6.4   0.3   5.2   6.7   9.4  ...   2.6   \n",
      "대구  10.8  12.9   7.7   4.2  13.6   3.3   1.5   3.8   8.7   8.0  ...   3.7   \n",
      "인천   9.8  13.5  15.1   7.3  15.8  18.1   1.8   6.1   6.2  16.3  ...   3.7   \n",
      "\n",
      "    2013  2014  2015  2016  2017  2018  2019  2020  2021  \n",
      "전국   3.1   3.1   2.8   2.9   3.1   2.9   2.2  -0.6   4.2  \n",
      "서울   1.6   1.5   2.9   2.8   2.3   3.6   2.6   0.9   3.5  \n",
      "부산   1.7   4.2   3.0   1.7   1.6   1.7   2.5  -3.5   2.3  \n",
      "대구   3.5   2.6   3.0   0.0   1.7   2.4   1.5  -2.0   4.4  \n",
      "인천   2.7   4.8   1.8   2.6   4.3   0.7   1.8  -3.5   6.0  \n",
      "\n",
      "[5 rows x 36 columns]\n"
     ]
    }
   ],
   "source": [
    "# 변수1 (GRDP 성장률) 데이터 전처리\n",
    "#df1 = df1.T\n",
    "print(df1.head())\n",
    "#df1.astype(float).plot()"
   ]
  },
  {
   "cell_type": "code",
   "execution_count": 20,
   "metadata": {},
   "outputs": [
    {
     "name": "stdout",
     "output_type": "stream",
     "text": [
      "       2000  2001  2002  2003  2004  2005  2006  2007  2008  2009  ...  2013   \n",
      "계      61.5  62.2  63.4  63.0  63.8  63.7  64.0  64.1  64.0  63.0  ...  64.6  \\\n",
      "서울특별시  60.9  61.5  62.4  62.6  63.8  64.3  64.4  64.7  64.3  62.7  ...  65.0   \n",
      "부산광역시  58.4  59.3  61.7  59.2  59.6  60.1  60.5  60.7  60.3  59.3  ...  61.8   \n",
      "대구광역시  59.2  60.3  62.0  61.0  62.2  61.9  61.8  61.9  61.3  61.1  ...  63.2   \n",
      "인천광역시  61.5  62.6  63.8  62.7  62.7  62.8  63.4  64.0  63.2  63.2  ...  65.3   \n",
      "\n",
      "       2014  2015  2016  2017  2018  2019  2020  2021  2022  \n",
      "계      65.6  65.9  66.1  66.6  66.6  66.8  65.9  66.5  68.5  \n",
      "서울특별시  65.7  65.5  65.8  66.4  66.0  66.3  65.9  66.6  68.4  \n",
      "부산광역시  62.7  62.7  62.6  63.4  62.9  64.2  62.9  63.9  65.4  \n",
      "대구광역시  64.3  65.4  65.3  65.0  64.2  64.2  63.0  65.5  66.9  \n",
      "인천광역시  65.4  65.9  67.2  67.3  68.6  68.3  66.9  67.4  69.4  \n",
      "\n",
      "[5 rows x 23 columns]\n"
     ]
    }
   ],
   "source": [
    "# 변수2 (고용률) 데이터 전처리\n",
    "#df2 = df2.T\n",
    "print(df2.head())\n",
    "#df2.astype(float).plot()"
   ]
  },
  {
   "cell_type": "markdown",
   "metadata": {},
   "source": [
    "## 귀무가설 (H0)\n",
    "지역내경제성장률의 증가와 고용률의 증가는 관계가 없다. (등락을 같이 하지 않는다)\n",
    "## 대립가설 (Ha)\n",
    "지역내경제성장률이 증가하니 고용률도 증가했다. (등락을 같이 한다)\n",
    "\n",
    "아마 growth rate가 높을 때와 그렇지 않을 때의 고용률의 추이를 보면 되지 않을까?\n",
    "- 그러면 데이터 전처리를 GRDP 증가가 높을때의 고용률과 그렇지 않을 때의 고용률로 나누고하면 될듯?\n",
    "- 성장률 평균을 계산하여 평균보다 높을때와 낮을때의 케이스들을 보면 된다\n",
    "\n",
    "증가율로 하지 말고 GRDP 자체로 하는것도 좋을 듯\n",
    "- 뭐 서울은 두 변수 사이의 상관관계가 있는데 부산은 관계가 없다 같은걸로 해도 될듯"
   ]
  },
  {
   "cell_type": "code",
   "execution_count": 21,
   "metadata": {},
   "outputs": [
    {
     "data": {
      "text/html": [
       "<div>\n",
       "<style scoped>\n",
       "    .dataframe tbody tr th:only-of-type {\n",
       "        vertical-align: middle;\n",
       "    }\n",
       "\n",
       "    .dataframe tbody tr th {\n",
       "        vertical-align: top;\n",
       "    }\n",
       "\n",
       "    .dataframe thead th {\n",
       "        text-align: right;\n",
       "    }\n",
       "</style>\n",
       "<table border=\"1\" class=\"dataframe\">\n",
       "  <thead>\n",
       "    <tr style=\"text-align: right;\">\n",
       "      <th></th>\n",
       "      <th>GRDP</th>\n",
       "      <th>Employment</th>\n",
       "    </tr>\n",
       "  </thead>\n",
       "  <tbody>\n",
       "    <tr>\n",
       "      <th>2000</th>\n",
       "      <td>8.8</td>\n",
       "      <td>61.5</td>\n",
       "    </tr>\n",
       "    <tr>\n",
       "      <th>2001</th>\n",
       "      <td>5.3</td>\n",
       "      <td>62.2</td>\n",
       "    </tr>\n",
       "    <tr>\n",
       "      <th>2002</th>\n",
       "      <td>7.0</td>\n",
       "      <td>63.4</td>\n",
       "    </tr>\n",
       "    <tr>\n",
       "      <th>2003</th>\n",
       "      <td>3.7</td>\n",
       "      <td>63.0</td>\n",
       "    </tr>\n",
       "    <tr>\n",
       "      <th>2004</th>\n",
       "      <td>4.6</td>\n",
       "      <td>63.8</td>\n",
       "    </tr>\n",
       "    <tr>\n",
       "      <th>2005</th>\n",
       "      <td>4.6</td>\n",
       "      <td>63.7</td>\n",
       "    </tr>\n",
       "    <tr>\n",
       "      <th>2006</th>\n",
       "      <td>5.4</td>\n",
       "      <td>64.0</td>\n",
       "    </tr>\n",
       "    <tr>\n",
       "      <th>2007</th>\n",
       "      <td>5.8</td>\n",
       "      <td>64.1</td>\n",
       "    </tr>\n",
       "    <tr>\n",
       "      <th>2008</th>\n",
       "      <td>2.7</td>\n",
       "      <td>64.0</td>\n",
       "    </tr>\n",
       "    <tr>\n",
       "      <th>2009</th>\n",
       "      <td>1.0</td>\n",
       "      <td>63.0</td>\n",
       "    </tr>\n",
       "    <tr>\n",
       "      <th>2010</th>\n",
       "      <td>7.0</td>\n",
       "      <td>63.4</td>\n",
       "    </tr>\n",
       "    <tr>\n",
       "      <th>2011</th>\n",
       "      <td>3.6</td>\n",
       "      <td>63.9</td>\n",
       "    </tr>\n",
       "    <tr>\n",
       "      <th>2012</th>\n",
       "      <td>2.3</td>\n",
       "      <td>64.3</td>\n",
       "    </tr>\n",
       "    <tr>\n",
       "      <th>2013</th>\n",
       "      <td>3.1</td>\n",
       "      <td>64.6</td>\n",
       "    </tr>\n",
       "    <tr>\n",
       "      <th>2014</th>\n",
       "      <td>3.1</td>\n",
       "      <td>65.6</td>\n",
       "    </tr>\n",
       "    <tr>\n",
       "      <th>2015</th>\n",
       "      <td>2.8</td>\n",
       "      <td>65.9</td>\n",
       "    </tr>\n",
       "    <tr>\n",
       "      <th>2016</th>\n",
       "      <td>2.9</td>\n",
       "      <td>66.1</td>\n",
       "    </tr>\n",
       "    <tr>\n",
       "      <th>2017</th>\n",
       "      <td>3.1</td>\n",
       "      <td>66.6</td>\n",
       "    </tr>\n",
       "    <tr>\n",
       "      <th>2018</th>\n",
       "      <td>2.9</td>\n",
       "      <td>66.6</td>\n",
       "    </tr>\n",
       "    <tr>\n",
       "      <th>2019</th>\n",
       "      <td>2.2</td>\n",
       "      <td>66.8</td>\n",
       "    </tr>\n",
       "    <tr>\n",
       "      <th>2020</th>\n",
       "      <td>-0.6</td>\n",
       "      <td>65.9</td>\n",
       "    </tr>\n",
       "    <tr>\n",
       "      <th>2021</th>\n",
       "      <td>4.2</td>\n",
       "      <td>66.5</td>\n",
       "    </tr>\n",
       "  </tbody>\n",
       "</table>\n",
       "</div>"
      ],
      "text/plain": [
       "      GRDP  Employment\n",
       "2000   8.8        61.5\n",
       "2001   5.3        62.2\n",
       "2002   7.0        63.4\n",
       "2003   3.7        63.0\n",
       "2004   4.6        63.8\n",
       "2005   4.6        63.7\n",
       "2006   5.4        64.0\n",
       "2007   5.8        64.1\n",
       "2008   2.7        64.0\n",
       "2009   1.0        63.0\n",
       "2010   7.0        63.4\n",
       "2011   3.6        63.9\n",
       "2012   2.3        64.3\n",
       "2013   3.1        64.6\n",
       "2014   3.1        65.6\n",
       "2015   2.8        65.9\n",
       "2016   2.9        66.1\n",
       "2017   3.1        66.6\n",
       "2018   2.9        66.6\n",
       "2019   2.2        66.8\n",
       "2020  -0.6        65.9\n",
       "2021   4.2        66.5"
      ]
     },
     "execution_count": 21,
     "metadata": {},
     "output_type": "execute_result"
    }
   ],
   "source": [
    "# 두 그룹 표본 평균 차이 분석\n",
    "total1 = df1.iloc[0:1,14:] # 전체 GRDP 증가율\n",
    "total2 = df2.iloc[0:1,:22] # 전체 고용률\n",
    "total1 = total1.T\n",
    "total2 = total2.T\n",
    "\n",
    "data = pd.concat([total1, total2], axis=1, join='inner')\n",
    "data.columns = ['GRDP', 'Employment']\n",
    "data\n"
   ]
  },
  {
   "cell_type": "code",
   "execution_count": 22,
   "metadata": {},
   "outputs": [],
   "source": [
    "p_col = 'GRDP'\n",
    "s_col = 'Employment'\n",
    "\n",
    "cutting_point = data[p_col].median()\n",
    "cond = data[p_col] > cutting_point\n",
    "\n",
    "group1, group2 = data[cond], data[~cond]"
   ]
  },
  {
   "cell_type": "code",
   "execution_count": 23,
   "metadata": {},
   "outputs": [],
   "source": [
    "mean1 = group1[s_col].mean() # 각 그룹의 고용률의 평균\n",
    "mean2 = group2[s_col].mean() \n",
    "\n",
    "var1 = group1[s_col].var(ddof=1) # 표본 분산을 계산할 때 자유도를 1로 조정하기 위해 ddof = 1 설정. \n",
    "var2 = group2[s_col].var(ddof=1)\n",
    "\n",
    "n1 = len(group1[s_col])\n",
    "n2 = len(group2[s_col])"
   ]
  },
  {
   "cell_type": "code",
   "execution_count": 24,
   "metadata": {},
   "outputs": [
    {
     "data": {
      "text/html": [
       "<div>\n",
       "<style scoped>\n",
       "    .dataframe tbody tr th:only-of-type {\n",
       "        vertical-align: middle;\n",
       "    }\n",
       "\n",
       "    .dataframe tbody tr th {\n",
       "        vertical-align: top;\n",
       "    }\n",
       "\n",
       "    .dataframe thead th {\n",
       "        text-align: right;\n",
       "    }\n",
       "</style>\n",
       "<table border=\"1\" class=\"dataframe\">\n",
       "  <thead>\n",
       "    <tr style=\"text-align: right;\">\n",
       "      <th></th>\n",
       "      <th>Group 1</th>\n",
       "      <th>Group 2</th>\n",
       "    </tr>\n",
       "  </thead>\n",
       "  <tbody>\n",
       "    <tr>\n",
       "      <th>Mean</th>\n",
       "      <td>63.590909</td>\n",
       "      <td>65.400</td>\n",
       "    </tr>\n",
       "    <tr>\n",
       "      <th>Variance</th>\n",
       "      <td>1.576909</td>\n",
       "      <td>1.544</td>\n",
       "    </tr>\n",
       "    <tr>\n",
       "      <th>Observations</th>\n",
       "      <td>11.000000</td>\n",
       "      <td>11.000</td>\n",
       "    </tr>\n",
       "  </tbody>\n",
       "</table>\n",
       "</div>"
      ],
      "text/plain": [
       "                Group 1  Group 2\n",
       "Mean          63.590909   65.400\n",
       "Variance       1.576909    1.544\n",
       "Observations  11.000000   11.000"
      ]
     },
     "execution_count": 24,
     "metadata": {},
     "output_type": "execute_result"
    }
   ],
   "source": [
    "group1_data = {}\n",
    "group1_data['Mean'] = mean1\n",
    "group1_data['Variance'] = var1\n",
    "group1_data['Observations'] = n1\n",
    "\n",
    "group2_data = {}\n",
    "group2_data['Mean'] = mean2\n",
    "group2_data['Variance'] = var2\n",
    "group2_data['Observations'] = n2\n",
    "\n",
    "group_table = pd.DataFrame({'Group 1' : group1_data, 'Group 2':group2_data},)\n",
    "group_table"
   ]
  },
  {
   "cell_type": "code",
   "execution_count": 25,
   "metadata": {},
   "outputs": [
    {
     "name": "stdout",
     "output_type": "stream",
     "text": [
      "Test Statistic: -3.3963792169912543\n"
     ]
    }
   ],
   "source": [
    "# 검정통계량 계산\n",
    "t_term1 = mean1 - mean2\n",
    "t_term2 = np.sqrt((var1 / n1) + (var2 / n2))\n",
    "t = t_term1 / t_term2\n",
    "\n",
    "print(f'Test Statistic: {t}')"
   ]
  },
  {
   "cell_type": "code",
   "execution_count": 26,
   "metadata": {},
   "outputs": [
    {
     "name": "stdout",
     "output_type": "stream",
     "text": [
      "Degree of Freedom: 19\n"
     ]
    }
   ],
   "source": [
    "# 자유도 계산\n",
    "from math import floor\n",
    "\n",
    "df_term1 = np.power((var1/n1 + var2/n2), 2)\n",
    "df_term2 = (np.power(var1/n1, 2) / (n1-1)) + (np.power(var2/n2, 2) / (n2-1))\n",
    "\n",
    "df = floor(df_term1 / df_term2) # df 계산 시 round down을 하도록 하겠습니다.\n",
    "print(f'Degree of Freedom: {df}')"
   ]
  },
  {
   "cell_type": "code",
   "execution_count": 27,
   "metadata": {},
   "outputs": [
    {
     "name": "stdout",
     "output_type": "stream",
     "text": [
      "p_value: 0.9984854141229146\n"
     ]
    }
   ],
   "source": [
    "# p-value 도출\n",
    "p_value = 1 - stats.t.cdf(t, df=df) \n",
    "print(f'p_value: {p_value}')"
   ]
  },
  {
   "cell_type": "code",
   "execution_count": 28,
   "metadata": {},
   "outputs": [
    {
     "data": {
      "text/html": [
       "<div>\n",
       "<style scoped>\n",
       "    .dataframe tbody tr th:only-of-type {\n",
       "        vertical-align: middle;\n",
       "    }\n",
       "\n",
       "    .dataframe tbody tr th {\n",
       "        vertical-align: top;\n",
       "    }\n",
       "\n",
       "    .dataframe thead th {\n",
       "        text-align: right;\n",
       "    }\n",
       "</style>\n",
       "<table border=\"1\" class=\"dataframe\">\n",
       "  <thead>\n",
       "    <tr style=\"text-align: right;\">\n",
       "      <th></th>\n",
       "      <th>t-Test</th>\n",
       "    </tr>\n",
       "  </thead>\n",
       "  <tbody>\n",
       "    <tr>\n",
       "      <th>Critical (left) value for two-tail test</th>\n",
       "      <td>-2.0930</td>\n",
       "    </tr>\n",
       "    <tr>\n",
       "      <th>Critical (right) value for two-tail test</th>\n",
       "      <td>2.0930</td>\n",
       "    </tr>\n",
       "    <tr>\n",
       "      <th>Critical value for one-tail test</th>\n",
       "      <td>1.7291</td>\n",
       "    </tr>\n",
       "    <tr>\n",
       "      <th>P(T&lt;=t) one tail</th>\n",
       "      <td>0.9985</td>\n",
       "    </tr>\n",
       "    <tr>\n",
       "      <th>P(T&lt;=t) two tail</th>\n",
       "      <td>1.9970</td>\n",
       "    </tr>\n",
       "    <tr>\n",
       "      <th>df</th>\n",
       "      <td>19.0000</td>\n",
       "    </tr>\n",
       "    <tr>\n",
       "      <th>t Stat</th>\n",
       "      <td>-3.3964</td>\n",
       "    </tr>\n",
       "  </tbody>\n",
       "</table>\n",
       "</div>"
      ],
      "text/plain": [
       "                                           t-Test\n",
       "Critical (left) value for two-tail test   -2.0930\n",
       "Critical (right) value for two-tail test   2.0930\n",
       "Critical value for one-tail test           1.7291\n",
       "P(T<=t) one tail                           0.9985\n",
       "P(T<=t) two tail                           1.9970\n",
       "df                                        19.0000\n",
       "t Stat                                    -3.3964"
      ]
     },
     "execution_count": 28,
     "metadata": {},
     "output_type": "execute_result"
    }
   ],
   "source": [
    "alpha = 0.05\n",
    "\n",
    "ttest_table = pd.DataFrame(\n",
    "{'t-Test':\n",
    "    {\n",
    "        'df': df, \n",
    "        't Stat': t, \n",
    "        'P(T<=t) one tail': p_value,\n",
    "        'P(T<=t) two tail': p_value*2,\n",
    "        'Critical value for one-tail test': -stats.t.ppf(q=alpha,df=df),\n",
    "        'Critical (left) value for two-tail test': stats.t.ppf(q=alpha/2,df=df),\n",
    "        'Critical (right) value for two-tail test': -stats.t.ppf(q=alpha/2,df=df),\n",
    "\n",
    "    }\n",
    "})\n",
    "ttest_table = ttest_table.round(4)\n",
    "ttest_table"
   ]
  },
  {
   "cell_type": "code",
   "execution_count": 23,
   "metadata": {},
   "outputs": [
    {
     "name": "stdout",
     "output_type": "stream",
     "text": [
      "        서울\n",
      "2000  10.0\n",
      "2001   4.3\n",
      "2002   6.9\n",
      "2003   1.8\n",
      "2004   1.2\n",
      "2005   4.3\n",
      "2006   4.2\n",
      "2007   5.9\n",
      "2008   2.5\n",
      "2009   1.5\n",
      "2010   3.5\n",
      "2011   3.2\n",
      "2012   1.4\n",
      "2013   1.6\n",
      "2014   1.5\n",
      "2015   2.9\n",
      "2016   2.8\n",
      "2017   2.3\n",
      "2018   3.6\n",
      "2019   2.6\n",
      "2020   0.9\n",
      "2021   3.5\n",
      "      서울특별시\n",
      "2000   60.9\n",
      "2001   61.5\n",
      "2002   62.4\n",
      "2003   62.6\n",
      "2004   63.8\n",
      "2005   64.3\n",
      "2006   64.4\n",
      "2007   64.7\n",
      "2008   64.3\n",
      "2009   62.7\n",
      "2010   63.6\n",
      "2011   64.7\n",
      "2012   64.7\n",
      "2013   65.0\n",
      "2014   65.7\n",
      "2015   65.5\n",
      "2016   65.8\n",
      "2017   66.4\n",
      "2018   66.0\n",
      "2019   66.3\n",
      "2020   65.9\n",
      "2021   66.6\n"
     ]
    }
   ],
   "source": [
    "# 먼저 서울특별시의 GRDP성장률과 고용률만 비교를 해보자.\n",
    "'''\n",
    "서울의 평균 GRDP 성장률은 5.57%\n",
    "평균 성장률이 5.57%와 같거나 높은 년도와 낮은 년도의 고용률을 나누기 위해서 데이터 전처리를 한다.\n",
    "둘의 비교\n",
    "'''\n",
    "#df1 = df1.T\n",
    "#df2 = df2.T\n",
    "seoul1 = df1.iloc[1:2,14:]\n",
    "seoul2 = df2.iloc[1:2,:22]\n",
    "seoul1 = seoul1.T\n",
    "seoul2 = seoul2.T\n",
    "print(seoul1)\n",
    "print(seoul2)"
   ]
  },
  {
   "cell_type": "code",
   "execution_count": 24,
   "metadata": {},
   "outputs": [
    {
     "name": "stdout",
     "output_type": "stream",
     "text": [
      "                            OLS Regression Results                            \n",
      "==============================================================================\n",
      "Dep. Variable:                  서울특별시   R-squared:                       0.263\n",
      "Model:                            OLS   Adj. R-squared:                  0.226\n",
      "Method:                 Least Squares   F-statistic:                     7.148\n",
      "Date:                Thu, 01 Jun 2023   Prob (F-statistic):             0.0146\n",
      "Time:                        20:00:28   Log-Likelihood:                -37.837\n",
      "No. Observations:                  22   AIC:                             79.67\n",
      "Df Residuals:                      20   BIC:                             81.86\n",
      "Df Model:                           1                                         \n",
      "Covariance Type:            nonrobust                                         \n",
      "==============================================================================\n",
      "                 coef    std err          t      P>|t|      [0.025      0.975]\n",
      "------------------------------------------------------------------------------\n",
      "const         65.7210      0.565    116.378      0.000      64.543      66.899\n",
      "서울            -0.3876      0.145     -2.674      0.015      -0.690      -0.085\n",
      "==============================================================================\n",
      "Omnibus:                        1.106   Durbin-Watson:                   0.754\n",
      "Prob(Omnibus):                  0.575   Jarque-Bera (JB):                1.037\n",
      "Skew:                          -0.402   Prob(JB):                        0.595\n",
      "Kurtosis:                       2.304   Cond. No.                         7.63\n",
      "==============================================================================\n",
      "\n",
      "Notes:\n",
      "[1] Standard Errors assume that the covariance matrix of the errors is correctly specified.\n"
     ]
    }
   ],
   "source": [
    "seoul1 = sm.add_constant(seoul1)\n",
    "\n",
    "model = sm.OLS(seoul2, seoul1)\n",
    "result = model.fit()\n",
    "\n",
    "print(result.summary())"
   ]
  }
 ],
 "metadata": {
  "kernelspec": {
   "display_name": "Python 3.11.1 64-bit",
   "language": "python",
   "name": "python3"
  },
  "language_info": {
   "codemirror_mode": {
    "name": "ipython",
    "version": 3
   },
   "file_extension": ".py",
   "mimetype": "text/x-python",
   "name": "python",
   "nbconvert_exporter": "python",
   "pygments_lexer": "ipython3",
   "version": "3.11.1"
  },
  "orig_nbformat": 4,
  "vscode": {
   "interpreter": {
    "hash": "aee8b7b246df8f9039afb4144a1f6fd8d2ca17a180786b69acc140d282b71a49"
   }
  }
 },
 "nbformat": 4,
 "nbformat_minor": 2
}
